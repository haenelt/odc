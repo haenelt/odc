{
 "cells": [
  {
   "attachments": {},
   "cell_type": "markdown",
   "metadata": {},
   "source": [
    "### Reliability across layers"
   ]
  },
  {
   "cell_type": "code",
   "execution_count": null,
   "metadata": {},
   "outputs": [],
   "source": [
    "from pathlib import Path\n",
    "import os\n",
    "import sys\n",
    "import random\n",
    "module_path = os.path.abspath(os.path.join('..'))\n",
    "if module_path not in sys.path:\n",
    "    sys.path.append(module_path)\n",
    "import numpy as np\n",
    "import nibabel as nb\n",
    "import matplotlib.pyplot as plt\n",
    "from scipy.stats import spearmanr\n",
    "from scipy.stats import gaussian_kde\n",
    "from palettable.matplotlib import Inferno_20 as ColMap\n",
    "from fmri_decoder.data import SurfaceData\n",
    "from src.data import Data\n",
    "from src.config import SESSION, DIR_BASE\n",
    "from src.stats import permutation_test\n",
    "plt.style.use(os.path.join(module_path, \"src\", \"default.mplstyle\"))\n",
    "\n",
    "# set\n",
    "SUBJ = \"p1\"\n",
    "SESS = \"VASO\"\n",
    "NSHUFFLE = 10000  # number of permutation iterations\n",
    "FRAC = 0.1  # fraction of data used for permutation testing"
   ]
  },
  {
   "cell_type": "code",
   "execution_count": null,
   "metadata": {},
   "outputs": [],
   "source": [
    "class Reliability:\n",
    "    \"\"\"Compute between-session correlation of a contrast sampled at a specific layer.\"\"\"\n",
    "\n",
    "    def __init__(self, subj=SUBJ, sess=SESS):\n",
    "        self.subj = subj\n",
    "        self.sess = sess\n",
    "\n",
    "    def get_label(self):\n",
    "        # get label and hemisphere\n",
    "        data = Data(self.subj, [])\n",
    "        surf_data = SurfaceData(data.file_layer, None, data.file_label)\n",
    "\n",
    "        label_left = surf_data.load_label_intersection(\"lh\")\n",
    "        label_right = surf_data.load_label_intersection(\"rh\")\n",
    "\n",
    "        hemi = np.zeros(len(label_left)+len(label_right))\n",
    "        hemi[len(label_left):] = 1\n",
    "        label = np.append(label_left, label_right)\n",
    "\n",
    "        return label, hemi\n",
    "\n",
    "    def get_contrast(self, hemi, day, layer):\n",
    "        file_in = (\n",
    "            Path(DIR_BASE) \n",
    "            / self.subj \n",
    "            / \"odc/results/Z/sampled\" \n",
    "            / f\"Z_all_left_right_{self.sess}{SESSION[self.subj][self.sess][day]}\" \n",
    "            / f\"{hemi}.Z_all_left_right_{self.sess}{SESSION[self.subj][self.sess][day]}_layer_{layer}.mgh\"\n",
    "        )\n",
    "        return nb.load(file_in).get_fdata().flatten()\n",
    "\n",
    "    def data(self, layer):\n",
    "        label, hemi = self.get_label()\n",
    "        data1 = np.zeros_like(hemi)\n",
    "        data2 = np.zeros_like(hemi)\n",
    "        data1[hemi == 0] = self.contrast(\"lh\", 0, layer)[label[hemi == 0]]\n",
    "        data1[hemi == 1] = self.contrast(\"rh\", 0, layer)[label[hemi == 1]]\n",
    "        data2[hemi == 0] = self.contrast(\"lh\", 1, layer)[label[hemi == 0]]\n",
    "        data2[hemi == 1] = self.contrast(\"rh\", 1, layer)[label[hemi == 1]]\n",
    "\n",
    "        # get subset of data for statistics\n",
    "        ndata = int(FRAC * len(data1))\n",
    "        ind = np.arange(len(data1))\n",
    "        random.shuffle(ind)\n",
    "        sample_0 = data1[ind[:ndata]]\n",
    "        sample_1 = data2[ind[:ndata]]\n",
    "        \n",
    "        return sample_0, sample_1\n",
    "\n",
    "    def corr(self, layer):\n",
    "        sample_0, sample_1 = self.data(layer)\n",
    "        return spearmanr(sample_0, sample_1)  # spearman\n"
   ]
  },
  {
   "cell_type": "code",
   "execution_count": null,
   "metadata": {},
   "outputs": [],
   "source": [
    "rel = Reliability()"
   ]
  }
 ],
 "metadata": {
  "kernelspec": {
   "display_name": "odc",
   "language": "python",
   "name": "python3"
  },
  "language_info": {
   "codemirror_mode": {
    "name": "ipython",
    "version": 3
   },
   "file_extension": ".py",
   "mimetype": "text/x-python",
   "name": "python",
   "nbconvert_exporter": "python",
   "pygments_lexer": "ipython3",
   "version": "3.10.8"
  },
  "orig_nbformat": 4,
  "vscode": {
   "interpreter": {
    "hash": "2eea3ca81759f0a161bc5aa399ed996bcaf7087f0096e8b8e1483172de838cbc"
   }
  }
 },
 "nbformat": 4,
 "nbformat_minor": 2
}
