{
 "cells": [
  {
   "attachments": {},
   "cell_type": "markdown",
   "metadata": {},
   "source": [
    "### Univariate profile with varying number of features"
   ]
  },
  {
   "cell_type": "code",
   "execution_count": null,
   "metadata": {},
   "outputs": [],
   "source": [
    "import os\n",
    "import sys\n",
    "module_path = os.path.abspath(os.path.join('..'))\n",
    "if module_path not in sys.path:\n",
    "    sys.path.append(module_path)\n",
    "import functools\n",
    "import numpy as np\n",
    "import pandas as pd\n",
    "import matplotlib.pyplot as plt\n",
    "from sklearn.feature_selection import f_classif\n",
    "from skimage.transform import resize\n",
    "from scipy.ndimage import gaussian_filter\n",
    "from palettable.matplotlib import Inferno_20 as ColMap\n",
    "from fmri_decoder.data import SurfaceData\n",
    "from src.data import Data\n",
    "from src.config import SUBJECTS, SESSION, N_LAYER\n",
    "plt.style.use(os.path.join(module_path, \"src\", \"default.mplstyle\"))\n",
    "\n",
    "# set\n",
    "SESS = \"GE_EPI\"\n",
    "NMAX = 500\n",
    "GAUSSIAN = 2.0  # size of gaussian filter"
   ]
  },
  {
   "cell_type": "code",
   "execution_count": null,
   "metadata": {},
   "outputs": [],
   "source": [
    "class Univariate:\n",
    "    \"\"\"Compute the univariate profile for different number of features.\"\"\"\n",
    "\n",
    "    def __init__(self, subj, sess, day):\n",
    "        self.subj = subj\n",
    "        self.sess = sess\n",
    "        self.day = day\n",
    "        self.data = Data(self.subj, f\"{self.sess}{SESSION[self.subj][self.sess][self.day]}\")\n",
    "        self.label, self.hemi = self.get_label\n",
    "        self.label_sorted, self.hemi_sorted = zip(*[self.sort_features(i) for i in range(N_LAYER)])\n",
    "\n",
    "    @property\n",
    "    @functools.lru_cache()\n",
    "    def get_label(self):\n",
    "        \"\"\"Get label and hemisphere.\"\"\"\n",
    "        surf_data = SurfaceData(self.data.file_layer, None, self.data.file_label)\n",
    "\n",
    "        label_left = surf_data.load_label_intersection(\"lh\")\n",
    "        label_right = surf_data.load_label_intersection(\"rh\")\n",
    "\n",
    "        hemi = np.zeros(len(label_left) + len(label_right))\n",
    "        hemi[len(label_left):] = 1\n",
    "        label = np.append(label_left, label_right)\n",
    "\n",
    "        return label, hemi\n",
    "\n",
    "    def sort_features(self, layer):\n",
    "        \"\"\"Sort label and hemi array based on features.\"\"\"\n",
    "        dtf = pd.read_parquet(self.data.get_sample_data(layer))\n",
    "\n",
    "        # choose subset of features\n",
    "        features = dtf.columns[2:]\n",
    "        \n",
    "        X = np.array(dtf.loc[:, features])\n",
    "        y = np.array(dtf.loc[:, \"label\"])\n",
    "\n",
    "        f_statistic = f_classif(X, y)[0]\n",
    "        index = np.arange(len(features))\n",
    "        index_sorted = np.array(\n",
    "                    [x for _, x in sorted(zip(f_statistic, index), reverse=True)]\n",
    "                )\n",
    "\n",
    "        label_sorted= self.label[index_sorted]\n",
    "        hemi_sorted = self.hemi[index_sorted]\n",
    "\n",
    "        return label_sorted, hemi_sorted\n",
    "\n",
    "    def get_profile(self, nmax):\n",
    "        \"\"\"Get data profile.\"\"\"\n",
    "        y = np.zeros(N_LAYER)\n",
    "        for i in range(N_LAYER):\n",
    "            label = self.label_sorted[i][:nmax]\n",
    "            hemi = self.hemi_sorted[i][:nmax]\n",
    "\n",
    "            # load psc\n",
    "            arr_left = self.data.get_psc(\"lh\", i)\n",
    "            arr_right = self.data.get_psc(\"rh\", i)\n",
    "\n",
    "            tmp = np.concatenate((arr_left[label[hemi==0]], arr_right[label[hemi==1]]), axis=0)\n",
    "            y[i] = np.mean(tmp)\n",
    "        return y\n",
    "    \n",
    "    def n_features(self, n):\n",
    "        \"\"\"Get data profiles for varying number of features n.\"\"\"\n",
    "        y = np.zeros((n, N_LAYER))\n",
    "        for i in range(n):\n",
    "            y[i, :] = self.get_profile(i+1)\n",
    "        if self.sess == \"VASO\":\n",
    "            y *= -1\n",
    "        return y"
   ]
  },
  {
   "cell_type": "code",
   "execution_count": null,
   "metadata": {},
   "outputs": [],
   "source": [
    "# get univariate profiles with varying numbre of features\n",
    "# for each subject and session\n",
    "# compute average profile map\n",
    "counter = 0\n",
    "data = np.zeros((NMAX, N_LAYER))\n",
    "for subj in SUBJECTS:\n",
    "    for day in [0, 1]:\n",
    "        data += Univariate(subj, SESS, day).n_features(NMAX)\n",
    "        counter += 1\n",
    "data /= counter"
   ]
  },
  {
   "cell_type": "code",
   "execution_count": null,
   "metadata": {},
   "outputs": [],
   "source": [
    "# regrid map and smooth\n",
    "nx, ny = 500, 250\n",
    "x, y = np.meshgrid(np.arange(ny), np.arange(nx))\n",
    "data_resized = resize(data, (nx,ny))\n",
    "data_filtered = gaussian_filter(data_resized, GAUSSIAN)"
   ]
  },
  {
   "cell_type": "code",
   "execution_count": null,
   "metadata": {},
   "outputs": [],
   "source": [
    "if SESS == \"VASO\":\n",
    "    contour_range = [0.5, 0.6]\n",
    "    clim_range = [0, 2]\n",
    "elif SESS == \"GE_EPI\":\n",
    "    contour_range = [2.4, 3.4]\n",
    "    clim_range = [0, 5]\n",
    "elif SESS == \"SE_EPI\":\n",
    "    contour_range = [1.0, 2.0]\n",
    "    clim_range = [0, 3]\n",
    "\n",
    "fig, ax = plt.subplots()\n",
    "im = ax.imshow(data_filtered, cmap=ColMap.mpl_colormap)\n",
    "cs = ax.contour(x, y, data_filtered, contour_range, colors=\"black\", linewidths=0.3)\n",
    "im.set_clim(clim_range)\n",
    "ax.clabel(cs, inline=True, fontsize=14)\n",
    "ax.set_xticks([0, 125, 250], [0.0, 0.5, 1.0])\n",
    "ax.set_xlabel(r\"GM/WM $\\rightarrow$ GM/CSF\")\n",
    "ax.set_ylabel(\"Number of vertices\")\n",
    "cbar = plt.colorbar(im)\n",
    "cbar.set_label(\"% Signal Change\")\n",
    "file_out = f\"/data/pt_01880/n_features_univariate_{SESS}.svg\"\n",
    "#fig.savefig(file_out, dpi=300, bbox_inches=\"tight\", transparent=True, format=\"svg\")"
   ]
  }
 ],
 "metadata": {
  "kernelspec": {
   "display_name": "odc",
   "language": "python",
   "name": "python3"
  },
  "language_info": {
   "codemirror_mode": {
    "name": "ipython",
    "version": 3
   },
   "file_extension": ".py",
   "mimetype": "text/x-python",
   "name": "python",
   "nbconvert_exporter": "python",
   "pygments_lexer": "ipython3",
   "version": "3.10.13"
  },
  "orig_nbformat": 4,
  "vscode": {
   "interpreter": {
    "hash": "2eea3ca81759f0a161bc5aa399ed996bcaf7087f0096e8b8e1483172de838cbc"
   }
  }
 },
 "nbformat": 4,
 "nbformat_minor": 2
}
