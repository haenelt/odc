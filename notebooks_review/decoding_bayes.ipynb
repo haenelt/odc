{
 "cells": [
  {
   "cell_type": "code",
   "execution_count": null,
   "metadata": {},
   "outputs": [],
   "source": [
    "# Linear versus quadratic model estimation\n",
    "# hollander et al., 2021\n",
    "# test for decoding accuracy\n",
    "# increase linearly or show a clear peak at a specific cortical depth\n",
    "# perform bayesian model comparison\n",
    "\n",
    "# fit two hierarhical linear models using pymc\n",
    "# NUTS sampler\n",
    "\n",
    "# dependent variable (decoding accuracy) was first modeled as a linear function of cortical depth\n",
    "# y_n = theta_n,0 + theta_n,1 * d_n\n",
    "\n",
    "# and then also as a quadratic function of cortical depth\n",
    "# y_n = theta_n,0 + theta_n,1 * d_n * theta_n,2 * d^2\n",
    "\n",
    "# where y_n were all observationf for subjects n\n",
    "# d is a corresponding vector of cortical depths\n",
    "# theta_n is the parameter vector for subject n that was estimated\n",
    "\n",
    "# the subject-wise parameters were modeled as coming from Gaussian group distirbution mean mu and standard deviation sigma\n",
    "# theta ~ N(mu, sigma)\n",
    "# mu ~ N(0, 1)\n",
    "# sigma ~ HalfCauchy(5) -> 5 subjects?\n",
    "\n",
    "# (1) use the state-of-the-art Watanabe-Akaike informatoin criterion to do Bayesian model copmarison between the linear and quadratic models\n",
    "# (2) estimate the posterior of the peak of the quadratic function using the formula \n",
    "\n"
   ]
  }
 ],
 "metadata": {
  "language_info": {
   "name": "python"
  }
 },
 "nbformat": 4,
 "nbformat_minor": 2
}
