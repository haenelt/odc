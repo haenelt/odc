{
 "cells": [
  {
   "attachments": {},
   "cell_type": "markdown",
   "metadata": {},
   "source": [
    "# Columnarity index"
   ]
  },
  {
   "cell_type": "code",
   "execution_count": null,
   "metadata": {},
   "outputs": [],
   "source": [
    "# based on Nasr et al., 2016\n",
    "# use contrast of interest (average across sessions)\n",
    "# for each vertex in v1, v2, v3\n",
    "#   (i) correlation between deep and superficial layers\n",
    "#   (ii) correlation in same layer separated by cortical thickness (deep or middle)\n",
    "# compare the two correlation coefficients\n",
    "# for each subject separately using Fisher's method for comparing correlation coefficients\n",
    "# make scatter plots"
   ]
  }
 ],
 "metadata": {
  "kernelspec": {
   "display_name": "odc_review",
   "language": "python",
   "name": "python3"
  },
  "language_info": {
   "codemirror_mode": {
    "name": "ipython",
    "version": 3
   },
   "file_extension": ".py",
   "mimetype": "text/x-python",
   "name": "python",
   "nbconvert_exporter": "python",
   "pygments_lexer": "ipython3",
   "version": "3.10.13"
  },
  "orig_nbformat": 4
 },
 "nbformat": 4,
 "nbformat_minor": 2
}
