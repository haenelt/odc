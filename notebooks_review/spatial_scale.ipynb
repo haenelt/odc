{
 "cells": [
  {
   "attachments": {},
   "cell_type": "markdown",
   "metadata": {},
   "source": [
    "# Main period of Laplacian Gaussian\n",
    "This notebook calculates the filter sizes of the bandpass filter for the figure, which illustrates decoding profiles with different filter sizes."
   ]
  },
  {
   "cell_type": "code",
   "execution_count": 1,
   "metadata": {},
   "outputs": [],
   "source": [
    "import os\n",
    "import sys\n",
    "module_path = os.path.abspath(os.path.join('..'))\n",
    "if module_path not in sys.path:\n",
    "    sys.path.append(module_path)\n",
    "from src.sphere import Sphere\n",
    "import numpy as np  \n",
    "from cortex.polyutils import Surface\n",
    "from fmri_tools.surface.filter import LaplacianGaussian\n",
    "\n",
    "# set\n",
    "SUBDIV = 4  # number of triangle subdivisions\n",
    "SUBDIV_ITER = 4  # number of subdivision iterations\n",
    "N_ITER = 100  # number of iterations to estimate filter scale\n",
    "T = [0.025, 0.05, 0.1, 0.5] # filter sizes"
   ]
  },
  {
   "cell_type": "code",
   "execution_count": 2,
   "metadata": {},
   "outputs": [
    {
     "name": "stdout",
     "output_type": "stream",
     "text": [
      "Number of veritces: 2562\n",
      "Average edge length: 0.3019963932060279\n",
      "Main filter period for t=0.025: 1.0928564400171776\n",
      "Main filter period for t=0.05: 1.8435526779878715\n",
      "Main filter period for t=0.1: 2.623505561775403\n",
      "Main filter period for t=0.5: 6.713724525690037\n"
     ]
    }
   ],
   "source": [
    "sphere = Sphere(SUBDIV)#SphereMesh(SUBDIV)\n",
    "sphere.subdivide(SUBDIV_ITER)\n",
    "surf = Surface(sphere.vtx, sphere.fac)\n",
    "\n",
    "print(f\"Number of veritces: {len(sphere.vtx)}\")\n",
    "print(f\"Average edge length: {surf.avg_edge_length}\")\n",
    "for t in T:\n",
    "    filt = LaplacianGaussian(sphere.vtx, sphere.fac, t)\n",
    "    res = filt.spatial_scale(n_iter=N_ITER)\n",
    "    print(f\"Main filter period for t={t}: {res['period']}\")"
   ]
  }
 ],
 "metadata": {
  "kernelspec": {
   "display_name": "odc_review",
   "language": "python",
   "name": "python3"
  },
  "language_info": {
   "codemirror_mode": {
    "name": "ipython",
    "version": 3
   },
   "file_extension": ".py",
   "mimetype": "text/x-python",
   "name": "python",
   "nbconvert_exporter": "python",
   "pygments_lexer": "ipython3",
   "version": "3.10.13"
  },
  "orig_nbformat": 4
 },
 "nbformat": 4,
 "nbformat_minor": 2
}
