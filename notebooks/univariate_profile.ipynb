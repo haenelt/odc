{
 "cells": [
  {
   "attachments": {},
   "cell_type": "markdown",
   "metadata": {},
   "source": [
    "### Univariate profiles"
   ]
  },
  {
   "cell_type": "code",
   "execution_count": 1,
   "metadata": {},
   "outputs": [],
   "source": [
    "from pathlib import Path\n",
    "import pandas as pd\n",
    "import numpy as np\n",
    "from scipy.stats import sem\n",
    "from sklearn.feature_selection import f_classif\n",
    "from fmri_decoder.data import SurfaceData\n",
    "import os\n",
    "import sys\n",
    "import matplotlib.pyplot as plt\n",
    "module_path = os.path.abspath(os.path.join('..'))\n",
    "if module_path not in sys.path:\n",
    "    sys.path.append(module_path)\n",
    "from src.data import Data\n",
    "plt.style.use(os.path.join(module_path, \"src\", \"default.mplstyle\"))\n",
    "\n",
    "N_LAYER = 11"
   ]
  },
  {
   "cell_type": "code",
   "execution_count": 2,
   "metadata": {},
   "outputs": [],
   "source": [
    "# parameters\n",
    "contrast = \"vaso\"  # ge, se, vaso\n",
    "metric = \"rest\"  # psc, cnr, tsnr\n",
    "nmax = 200\n",
    "DIR_OUT = \"/data/pt_01880/\""
   ]
  },
  {
   "cell_type": "code",
   "execution_count": 3,
   "metadata": {},
   "outputs": [],
   "source": [
    "def get_label(subj):\n",
    "    # get label and hemisphere\n",
    "    data = Data(subj, [])\n",
    "    surf_data = SurfaceData(data.file_layer, None, data.file_label)\n",
    "\n",
    "    label_left = surf_data.load_label_intersection(\"lh\")\n",
    "    label_right = surf_data.load_label_intersection(\"rh\")\n",
    "\n",
    "    hemi = np.zeros(len(label_left)+len(label_right))\n",
    "    hemi[len(label_left):] = 1\n",
    "    label = np.append(label_left, label_right)\n",
    "\n",
    "    return label, hemi\n",
    "\n",
    "def select_features(dtf, label, hemi):\n",
    "    features = dtf.columns[2:]\n",
    "    \n",
    "    X = np.array(dtf.loc[:, features])\n",
    "    y = np.array(dtf.loc[:, \"label\"])\n",
    "\n",
    "    f_statistic = f_classif(X, y)[0]\n",
    "    index = np.arange(len(features))\n",
    "    index_sorted = np.array(\n",
    "                [x for _, x in sorted(zip(f_statistic, index), reverse=True)]\n",
    "            )\n",
    "    index_sorted = index_sorted[: nmax]\n",
    "\n",
    "    label_selected = label[index_sorted]\n",
    "    hemi_selected = hemi[index_sorted]\n",
    "\n",
    "    return label, hemi"
   ]
  },
  {
   "cell_type": "code",
   "execution_count": 4,
   "metadata": {},
   "outputs": [],
   "source": [
    "subjs = [\"p1\", \"p2\", \"p3\", \"p4\", \"p5\"]\n",
    "sessions = {}\n",
    "sessions[\"p1\"] = {}\n",
    "sessions[\"p1\"][\"ge\"] = [\"GE_EPI3\", \"GE_EPI4\"]\n",
    "sessions[\"p1\"][\"se\"] = [\"SE_EPI1\", \"SE_EPI2\"]\n",
    "sessions[\"p1\"][\"vaso\"] = [\"VASO1\", \"VASO2\"]\n",
    "sessions[\"p2\"] = {}\n",
    "sessions[\"p2\"][\"ge\"] = [\"GE_EPI1\", \"GE_EPI2\"]\n",
    "sessions[\"p2\"][\"se\"] = [\"SE_EPI1\", \"SE_EPI2\"]\n",
    "sessions[\"p2\"][\"vaso\"] = [\"VASO2\", \"VASO3\"]\n",
    "sessions[\"p3\"] = {}\n",
    "sessions[\"p3\"][\"ge\"] = [\"GE_EPI2\", \"GE_EPI3\"]\n",
    "sessions[\"p3\"][\"se\"] = [\"SE_EPI1\", \"SE_EPI2\"]\n",
    "sessions[\"p3\"][\"vaso\"] = [\"VASO1\", \"VASO3\"]\n",
    "sessions[\"p4\"] = {}\n",
    "sessions[\"p4\"][\"ge\"] = [\"GE_EPI1\", \"GE_EPI2\"]\n",
    "sessions[\"p4\"][\"se\"] = [\"SE_EPI1\", \"SE_EPI2\"]\n",
    "sessions[\"p4\"][\"vaso\"] = [\"VASO1\", \"VASO2\"]\n",
    "sessions[\"p5\"] = {}\n",
    "sessions[\"p5\"][\"ge\"] = [\"GE_EPI1\", \"GE_EPI2\"]\n",
    "sessions[\"p5\"][\"se\"] = [\"SE_EPI1\", \"SE_EPI2\"]\n",
    "sessions[\"p5\"][\"vaso\"] = [\"VASO1\", \"VASO2\"]\n",
    "\n",
    "res = np.zeros((N_LAYER, 2 * len(subjs)))\n",
    "for layer in range(N_LAYER):\n",
    "    counter = 0\n",
    "    for subj in subjs:\n",
    "        label, hemi = get_label(subj)\n",
    "        for session in sessions[subj][contrast]:\n",
    "            data = Data(subj, session)\n",
    "            # load dataframe\n",
    "            dtf = pd.read_parquet(data.get_sample_data(layer))\n",
    "            N_BATCH = len(np.unique(dtf[\"batch\"]))\n",
    "\n",
    "            arr = []\n",
    "            label_selected, hemi_selected = select_features(dtf, label, hemi)\n",
    "\n",
    "            if metric == \"tsnr\":\n",
    "                arr_left = data.get_tsnr(\"lh\", layer)\n",
    "                arr_right = data.get_tsnr(\"rh\", layer)\n",
    "            elif metric == \"cnr\":\n",
    "                arr_left = data.get_cnr(\"lh\", layer)\n",
    "                arr_right = data.get_cnr(\"rh\", layer)\n",
    "            elif metric == \"psc\":\n",
    "                arr_left = data.get_psc(\"lh\", layer)\n",
    "                arr_right = data.get_psc(\"rh\", layer)\n",
    "            elif metric == \"rest\":\n",
    "                arr_left = data.get_rest(\"lh\", layer)\n",
    "                arr_right = data.get_rest(\"rh\", layer)\n",
    "            else:\n",
    "                ValueError(\"Unknown metric!\")\n",
    "\n",
    "            arr.extend(arr_left[label_selected[hemi_selected==0]])\n",
    "            arr.extend(arr_right[label_selected[hemi_selected==1]])\n",
    "\n",
    "            res[layer, counter] = np.mean(arr)\n",
    "            counter += 1\n",
    "\n",
    "np.save(Path(DIR_OUT) / f\"{metric}_{contrast}.npy\", res)\n"
   ]
  },
  {
   "cell_type": "code",
   "execution_count": 5,
   "metadata": {},
   "outputs": [
    {
     "data": {
      "image/png": "[encoded data removed]",
      "text/plain": [
       "<Figure size 500x500 with 1 Axes>"
      ]
     },
     "metadata": {},
     "output_type": "display_data"
    }
   ],
   "source": [
    "file_in = [Path(\"/data/pt_01880\") / f\"{metric}_{contrast}.npy\"]\n",
    "\n",
    "fig, ax = plt.subplots(figsize=(5, 5))\n",
    "for f in file_in:\n",
    "    res = np.load(f)\n",
    "    res_mean = np.mean(res, axis=1)\n",
    "    res_sem = sem(res, axis=1)\n",
    "    plt.errorbar(x=np.arange(N_LAYER), y=res_mean, yerr=res_sem)\n",
    "\n",
    "#plt.xlabel(r'Gaussian filter size $t$')\n",
    "plt.locator_params(axis='x', nbins=10)\n",
    "plt.locator_params(axis='y', nbins=10)\n",
    "\n",
    "# write output\n",
    "#if DIR_OUT:\n",
    "#    dir_out = Path(DIR_OUT)\n",
    "#    dir_out.mkdir(exist_ok=True)\n",
    "#    file_out = dir_out / \"filter_sizes.svg\"\n",
    "#    fig.savefig(file_out, dpi=300, bbox_inches=\"tight\", transparent=True, format=\"svg\")"
   ]
  }
 ],
 "metadata": {
  "kernelspec": {
   "display_name": "odc",
   "language": "python",
   "name": "python3"
  },
  "language_info": {
   "codemirror_mode": {
    "name": "ipython",
    "version": 3
   },
   "file_extension": ".py",
   "mimetype": "text/x-python",
   "name": "python",
   "nbconvert_exporter": "python",
   "pygments_lexer": "ipython3",
   "version": "3.10.8 (main, Nov 24 2022, 14:13:03) [GCC 11.2.0]"
  },
  "orig_nbformat": 4,
  "vscode": {
   "interpreter": {
    "hash": "2eea3ca81759f0a161bc5aa399ed996bcaf7087f0096e8b8e1483172de838cbc"
   }
  }
 },
 "nbformat": 4,
 "nbformat_minor": 2
}
