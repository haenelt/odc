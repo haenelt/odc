{
 "cells": [
  {
   "attachments": {},
   "cell_type": "markdown",
   "metadata": {},
   "source": [
    "### Create maps in dense freesurfer space"
   ]
  },
  {
   "cell_type": "code",
   "execution_count": 1,
   "metadata": {},
   "outputs": [],
   "source": [
    "from pathlib import Path\n",
    "import os\n",
    "import sys\n",
    "module_path = os.path.abspath(os.path.join('..'))\n",
    "if module_path not in sys.path:\n",
    "    sys.path.append(module_path)\n",
    "import numpy as np\n",
    "from nibabel.freesurfer.io import read_geometry, read_label\n",
    "from fmri_tools.surface.filter import LaplacianGaussian\n",
    "from fmri_tools.surface.mesh import Mesh\n",
    "from fmri_tools.io.surf import (\n",
    "    read_mgh, write_mgh, write_label, patch_as_mesh, mgh_to_patch, curv_to_patch, \n",
    "    label_to_patch\n",
    "    )\n",
    "from src.config import DIR_BASE, SESSION\n",
    "from src.helper import get_composed_label\n",
    "\n",
    "SUBJ = \"p2\"\n",
    "HEMI = \"lh\"\n",
    "LAYER = 5\n",
    "DIR_OUT = \"/data/pt_01880/zzz_new\"\n",
    "\n",
    "# make output folders\n",
    "DIR_DENSE = Path(DIR_OUT) / \"dense\"\n",
    "DIR_DENSE.mkdir(parents=True, exist_ok=True)"
   ]
  },
  {
   "cell_type": "code",
   "execution_count": 2,
   "metadata": {},
   "outputs": [
    {
     "name": "stderr",
     "output_type": "stream",
     "text": [
      "100%|██████████| 280685/280685 [13:10<00:00, 354.85it/s]\n"
     ]
    }
   ],
   "source": [
    "# get final transformation label to dense freesurfer mesh\n",
    "file_out = DIR_DENSE / f\"{HEMI}.composed.label\"\n",
    "file_in = Path(DIR_BASE) / SUBJ / \"anatomy/dense_refined\" / f\"{HEMI}.white_match_final\"\n",
    "file_in2 = Path(DIR_BASE) / SUBJ / \"anatomy/gbb\" / f\"{HEMI}.white_def2_refined\"\n",
    "file_ind2 = Path(DIR_BASE) / SUBJ / \"anatomy/gbb\" / f\"{HEMI}.white_def2_refined_ind.txt\"\n",
    "file_ind3 = Path(DIR_BASE) / SUBJ / \"anatomy/dense_epi\" / f\"{HEMI}.white_def2_ind\"\n",
    "get_composed_label(file_out, file_in, file_in2, file_ind2, file_ind3)"
   ]
  },
  {
   "cell_type": "code",
   "execution_count": 3,
   "metadata": {},
   "outputs": [
    {
     "name": "stderr",
     "output_type": "stream",
     "text": [
      "/data/pt_01880/source/miniconda3/envs/odc/lib/python3.10/site-packages/nibabel/spatialimages.py:495: UserWarning: Using large vector Freesurfer hack; header will not be compatible with SPM or FSL\n",
      "  hdr.set_data_shape(shape)\n"
     ]
    }
   ],
   "source": [
    "# transform arrays\n",
    "file_ind = DIR_DENSE / f\"{HEMI}.composed.label\"\n",
    "file_geom = Path(DIR_BASE) / SUBJ / \"anatomy/dense\" / f\"{HEMI}.white\"\n",
    "file_mgh = []\n",
    "for sess in SESSION[SUBJ]:\n",
    "    for day in SESSION[SUBJ][sess]:\n",
    "        if \"_uncorrected\" not in sess:\n",
    "            file_mgh.append(\n",
    "                Path(DIR_BASE) \n",
    "                / SUBJ \n",
    "                / f\"odc/results/Z/sampled/Z_all_left_right_{sess}{day}\" \n",
    "                / f\"{HEMI}.Z_all_left_right_{sess}{day}_layer_{LAYER}.mgh\"\n",
    "            )\n",
    "\n",
    "ind = read_label(file_ind)\n",
    "vtx, _ = read_geometry(file_geom)\n",
    "for f in file_mgh:\n",
    "    file_out = DIR_DENSE / f\"{Path(f).stem}_dense.mgh\"\n",
    "    arr, _, _ = read_mgh(f)\n",
    "    res = np.zeros(len(vtx))\n",
    "    res[ind] = arr\n",
    "    write_mgh(file_out, res)"
   ]
  },
  {
   "cell_type": "code",
   "execution_count": 4,
   "metadata": {},
   "outputs": [],
   "source": [
    "# transform label\n",
    "file_ind = DIR_DENSE / f\"{HEMI}.composed.label\"\n",
    "file_geom = Path(DIR_BASE) / SUBJ / \"/data/pt_01880/Experiment1_ODC/p1/anatomy/dense/lh.white\"\n",
    "file_label = []\n",
    "for label in [\"fov\", \"v1\", \"v2\", \"v2a\", \"v2b\", \"v3\", \"v3a\", \"v3b\"]:\n",
    "    file_label.append(Path(DIR_BASE) / SUBJ / \"anatomy/label\" / f\"{HEMI}.{label}.label\")\n",
    "\n",
    "ind = read_label(file_ind)\n",
    "for f in file_label:\n",
    "    file_out = DIR_DENSE / f\"{Path(f).stem}_dense.label\"\n",
    "    l_ = read_label(f)\n",
    "    res = ind[l_]\n",
    "    write_label(file_out, res)"
   ]
  },
  {
   "cell_type": "code",
   "execution_count": 5,
   "metadata": {},
   "outputs": [],
   "source": [
    "# get average maps\n",
    "for sess in SESSION[SUBJ]:\n",
    "    days = SESSION[SUBJ][sess]\n",
    "    if \"_uncorrected\" not in sess:\n",
    "        file_mgh1 = (\n",
    "            DIR_DENSE \n",
    "            / f\"{HEMI}.Z_all_left_right_{sess}{days[0]}_layer_{LAYER}_dense.mgh\"\n",
    "        )\n",
    "        file_mgh2 = (\n",
    "            DIR_DENSE\n",
    "            / f\"{HEMI}.Z_all_left_right_{sess}{days[1]}_layer_{LAYER}_dense.mgh\"\n",
    "        )\n",
    "        file_out = DIR_DENSE / f\"{HEMI}.Z_all_left_right_{sess}_layer_{LAYER}_avg.mgh\"\n",
    "        arr1, _, _ = read_mgh(file_mgh1)\n",
    "        arr2, _, _ = read_mgh(file_mgh2)\n",
    "        res = (arr1 + arr2) / 2\n",
    "        write_mgh(file_out, res)"
   ]
  }
 ],
 "metadata": {
  "kernelspec": {
   "display_name": "odc",
   "language": "python",
   "name": "python3"
  },
  "language_info": {
   "codemirror_mode": {
    "name": "ipython",
    "version": 3
   },
   "file_extension": ".py",
   "mimetype": "text/x-python",
   "name": "python",
   "nbconvert_exporter": "python",
   "pygments_lexer": "ipython3",
   "version": "3.10.8"
  },
  "orig_nbformat": 4
 },
 "nbformat": 4,
 "nbformat_minor": 2
}
