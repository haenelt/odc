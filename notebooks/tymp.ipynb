{
 "cells": [
  {
   "cell_type": "code",
   "execution_count": 41,
   "metadata": {},
   "outputs": [
    {
     "ename": "FileNotFoundError",
     "evalue": "[Errno 2] No such file or directory: '/data/pt_01880/psc_se.npy'",
     "output_type": "error",
     "traceback": [
      "\u001b[0;31m---------------------------------------------------------------------------\u001b[0m",
      "\u001b[0;31mFileNotFoundError\u001b[0m                         Traceback (most recent call last)",
      "Cell \u001b[0;32mIn[41], line 65\u001b[0m\n\u001b[1;32m     63\u001b[0m     color\u001b[39m=\u001b[39m\u001b[39m\"\u001b[39m\u001b[39m#57B154\u001b[39m\u001b[39m\"\u001b[39m\n\u001b[1;32m     64\u001b[0m     file_out \u001b[39m=\u001b[39m \u001b[39m\"\u001b[39m\u001b[39m/data/pt_01880/psc_se.svg\u001b[39m\u001b[39m\"\u001b[39m\n\u001b[0;32m---> 65\u001b[0m plot_data(session, color\u001b[39m=\u001b[39;49mcolor, label\u001b[39m=\u001b[39;49m\u001b[39m\"\u001b[39;49m\u001b[39mMean across subjects (both sessions)\u001b[39;49m\u001b[39m\"\u001b[39;49m)\n\u001b[1;32m     66\u001b[0m \u001b[39m#plot_data(f, part=1, color=\"gray\", linestyle=\"-\", label=\"Mean across subjects (second session)\")\u001b[39;00m\n\u001b[1;32m     67\u001b[0m \u001b[39m#plot_data(f, part=2, color=color, linestyle=\"-\", label=\"Mean across subjects (both sessions)\")\u001b[39;00m\n\u001b[1;32m     68\u001b[0m plt\u001b[39m.\u001b[39mxlabel(\u001b[39mr\u001b[39m\u001b[39m\"\u001b[39m\u001b[39mGM/WM $\u001b[39m\u001b[39m\\\u001b[39m\u001b[39mrightarrow$ GM/CSF\u001b[39m\u001b[39m\"\u001b[39m)\n",
      "Cell \u001b[0;32mIn[41], line 31\u001b[0m, in \u001b[0;36mplot_data\u001b[0;34m(session, color, label)\u001b[0m\n\u001b[1;32m     28\u001b[0m \u001b[39mdef\u001b[39;00m \u001b[39mplot_data\u001b[39m(session, color, label):\n\u001b[1;32m     30\u001b[0m     file \u001b[39m=\u001b[39m Path(DIR_DATA) \u001b[39m/\u001b[39m \u001b[39mf\u001b[39m\u001b[39m\"\u001b[39m\u001b[39mpsc_\u001b[39m\u001b[39m{\u001b[39;00msession\u001b[39m}\u001b[39;00m\u001b[39m.npy\u001b[39m\u001b[39m\"\u001b[39m\n\u001b[0;32m---> 31\u001b[0m     data \u001b[39m=\u001b[39m np\u001b[39m.\u001b[39;49mload(file)\n\u001b[1;32m     32\u001b[0m     ncols \u001b[39m=\u001b[39m np\u001b[39m.\u001b[39mshape(data)[\u001b[39m1\u001b[39m]\n\u001b[1;32m     34\u001b[0m     y_all \u001b[39m=\u001b[39m np\u001b[39m.\u001b[39mmean(data, axis\u001b[39m=\u001b[39m\u001b[39m1\u001b[39m)\n",
      "File \u001b[0;32m/data/pt_01880/source/miniconda3/envs/odc/lib/python3.10/site-packages/numpy/lib/npyio.py:405\u001b[0m, in \u001b[0;36mload\u001b[0;34m(file, mmap_mode, allow_pickle, fix_imports, encoding, max_header_size)\u001b[0m\n\u001b[1;32m    403\u001b[0m     own_fid \u001b[39m=\u001b[39m \u001b[39mFalse\u001b[39;00m\n\u001b[1;32m    404\u001b[0m \u001b[39melse\u001b[39;00m:\n\u001b[0;32m--> 405\u001b[0m     fid \u001b[39m=\u001b[39m stack\u001b[39m.\u001b[39menter_context(\u001b[39mopen\u001b[39;49m(os_fspath(file), \u001b[39m\"\u001b[39;49m\u001b[39mrb\u001b[39;49m\u001b[39m\"\u001b[39;49m))\n\u001b[1;32m    406\u001b[0m     own_fid \u001b[39m=\u001b[39m \u001b[39mTrue\u001b[39;00m\n\u001b[1;32m    408\u001b[0m \u001b[39m# Code to distinguish from NumPy binary files and pickles.\u001b[39;00m\n",
      "\u001b[0;31mFileNotFoundError\u001b[0m: [Errno 2] No such file or directory: '/data/pt_01880/psc_se.npy'"
     ]
    },
    {
     "data": {
      "image/png": "[encoded data removed]",
      "text/plain": [
       "<Figure size 800x600 with 1 Axes>"
      ]
     },
     "metadata": {},
     "output_type": "display_data"
    }
   ],
   "source": [
    "import numpy as np\n",
    "import matplotlib.pyplot as plt\n",
    "from pathlib import Path\n",
    "from scipy.stats import sem\n",
    "import os\n",
    "import sys\n",
    "module_path = os.path.abspath(os.path.join('..'))\n",
    "if module_path not in sys.path:\n",
    "    sys.path.append(module_path)\n",
    "plt.style.use(os.path.join(module_path, \"src\", \"default.mplstyle\"))\n",
    "\n",
    "subjects = [\"p1\", \"p2\", \"p3\", \"p4\", \"p5\"]\n",
    "session = \"se\"\n",
    "\n",
    "N_LAYER = 11\n",
    "DIR_DATA = \"/data/pt_01880\"\n",
    "\n",
    "def get_sessions(x, size):\n",
    "    # x = 0: odd (second)\n",
    "    # x = 1: even (first)\n",
    "    c = []\n",
    "    for num in range(size):\n",
    "        # checking condition\n",
    "        if num % 2 != x:\n",
    "            c.append(num)\n",
    "    return c\n",
    "\n",
    "def plot_data(session, color, label):\n",
    "\n",
    "    file = Path(DIR_DATA) / f\"psc_{session}.npy\"\n",
    "    data = np.load(file)\n",
    "    ncols = np.shape(data)[1]\n",
    "\n",
    "    y_all = np.mean(data, axis=1)\n",
    "    y_all_sem = sem(data, axis=1)\n",
    "    #y_first = np.mean(data[:, get_sessions(1, ncols)], axis=1)\n",
    "    #y_second = np.mean(data[:, get_sessions(0, ncols)], axis=1)\n",
    "    plt.plot(np.linspace(0, 1, N_LAYER), y_all, color=color, linewidth=2, label=label)\n",
    "    #plt.plot(np.linspace(0, 1, N_LAYER), y_first, color=\"gray\", linewidth=2, label=label)\n",
    "    #plt.plot(np.linspace(0, 1, N_LAYER), y_second, color=\"red\", linewidth=2, label=label)\n",
    "    plt.fill_between(np.linspace(0, 1, N_LAYER), y_all-y_all_sem, y_all+y_all_sem, facecolor=color, interpolate=True, alpha=0.24, label=\"Standard error across subjects (both sessions)\")\n",
    "    #y_mean = np.array(y_mean)\n",
    "    #y_mean = np.mean(y_mean, axis=0)\n",
    "    #y_sem = sem(y_mean, axis=0)\n",
    "\n",
    "    #if part == 2:\n",
    "    #    plt.plot(np.linspace(0, 1, nlayer), y_mean, color=color, linestyle=linestyle, linewidth=2, label=label)\n",
    "    #    #plt.errorbar(np.arange(nlayer), y_mean, y_sem, fmt='.-', color=color, alpha=alpha)\n",
    "    #    plt.fill_between(np.linspace(0, 1, nlayer), y_mean-y_sem, y_mean+y_sem, facecolor=color, interpolate=True, alpha=0.24, label=\"Standard error across subjects (both sessions)\")\n",
    "    #    #plt.plot(np.arange(nlayer), y_mean-y_sem, linestyle=\"--\", linewidth=2, color=color, alpha=alpha)\n",
    "    #    #plt.plot(np.arange(nlayer), y_mean+y_sem, linestyle=\"--\", linewidth=2, color=color, alpha=alpha)\n",
    "    #else:\n",
    "    #    plt.plot(np.linspace(0, 1, nlayer), y_mean, color=color, linestyle=linestyle, label=label)\n",
    "\n",
    "fig, ax = plt.subplots(figsize=(8,6))\n",
    "if session == \"vaso\":\n",
    "    color=\"#1990BE\"\n",
    "    file_out = \"/data/pt_01880/psc_vaso.svg\"\n",
    "elif session == \"ge\":\n",
    "    color=\"#A12A48\"\n",
    "    file_out = \"/data/pt_01880/psc_ge.svg\"\n",
    "elif session == \"se\":\n",
    "    color=\"#57B154\"\n",
    "    file_out = \"/data/pt_01880/psc_se.svg\"\n",
    "plot_data(session, color=color, label=\"Mean across subjects (both sessions)\")\n",
    "#plot_data(f, part=1, color=\"gray\", linestyle=\"-\", label=\"Mean across subjects (second session)\")\n",
    "#plot_data(f, part=2, color=color, linestyle=\"-\", label=\"Mean across subjects (both sessions)\")\n",
    "plt.xlabel(r\"GM/WM $\\rightarrow$ GM/CSF\")\n",
    "plt.ylabel(\"Signal change in %\")\n",
    "plt.legend(loc=\"lower right\")\n",
    "fig.savefig(file_out, dpi=300, bbox_inches=\"tight\", transparent=True, format=\"svg\")"
   ]
  },
  {
   "cell_type": "code",
   "execution_count": 17,
   "metadata": {},
   "outputs": [
    {
     "name": "stdout",
     "output_type": "stream",
     "text": [
      "[0, 2, 4, 6, 8]\n"
     ]
    }
   ],
   "source": []
  }
 ],
 "metadata": {
  "kernelspec": {
   "display_name": "odc",
   "language": "python",
   "name": "python3"
  },
  "language_info": {
   "codemirror_mode": {
    "name": "ipython",
    "version": 3
   },
   "file_extension": ".py",
   "mimetype": "text/x-python",
   "name": "python",
   "nbconvert_exporter": "python",
   "pygments_lexer": "ipython3",
   "version": "3.10.8 (main, Nov 24 2022, 14:13:03) [GCC 11.2.0]"
  },
  "orig_nbformat": 4,
  "vscode": {
   "interpreter": {
    "hash": "2eea3ca81759f0a161bc5aa399ed996bcaf7087f0096e8b8e1483172de838cbc"
   }
  }
 },
 "nbformat": 4,
 "nbformat_minor": 2
}
