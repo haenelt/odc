{
 "cells": [
  {
   "attachments": {},
   "cell_type": "markdown",
   "metadata": {},
   "source": [
    "### Get average maps for illustration"
   ]
  },
  {
   "cell_type": "code",
   "execution_count": 5,
   "metadata": {},
   "outputs": [],
   "source": [
    "from pathlib import Path\n",
    "import numpy as np\n",
    "from fmri_tools.io.surf import write_mgh\n",
    "import os\n",
    "import sys\n",
    "module_path = os.path.abspath(os.path.join('..'))\n",
    "if module_path not in sys.path:\n",
    "    sys.path.append(module_path)\n",
    "from src.data import Data\n",
    "\n",
    "# input parameters\n",
    "subj = \"p1\"\n",
    "hemi = \"lh\"\n",
    "layer = 5\n",
    "sessions = [\"VASO1\", \"VASO2\"]\n",
    "file_out = \"/data/pt_01880/z_vaso.mgh\"\n",
    "\n",
    "\n",
    "# loop over sessions\n",
    "res = []\n",
    "for sess in sessions:\n",
    "    data = Data(subj, sess)\n",
    "    arr = data.get_contrast(hemi, layer)\n",
    "    res.append(arr)\n",
    "res = np.mean(res, axis=0)\n",
    "write_mgh(file_out, res)"
   ]
  }
 ],
 "metadata": {
  "kernelspec": {
   "display_name": "odc",
   "language": "python",
   "name": "python3"
  },
  "language_info": {
   "codemirror_mode": {
    "name": "ipython",
    "version": 3
   },
   "file_extension": ".py",
   "mimetype": "text/x-python",
   "name": "python",
   "nbconvert_exporter": "python",
   "pygments_lexer": "ipython3",
   "version": "3.10.8 (main, Nov 24 2022, 14:13:03) [GCC 11.2.0]"
  },
  "orig_nbformat": 4,
  "vscode": {
   "interpreter": {
    "hash": "2eea3ca81759f0a161bc5aa399ed996bcaf7087f0096e8b8e1483172de838cbc"
   }
  }
 },
 "nbformat": 4,
 "nbformat_minor": 2
}
