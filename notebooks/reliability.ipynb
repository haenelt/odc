{
 "cells": [
  {
   "attachments": {},
   "cell_type": "markdown",
   "metadata": {},
   "source": [
    "### Reliability"
   ]
  },
  {
   "cell_type": "code",
   "execution_count": null,
   "metadata": {},
   "outputs": [],
   "source": [
    "from pathlib import Path\n",
    "import os\n",
    "import sys\n",
    "import random\n",
    "module_path = os.path.abspath(os.path.join('..'))\n",
    "if module_path not in sys.path:\n",
    "    sys.path.append(module_path)\n",
    "import numpy as np\n",
    "import nibabel as nb\n",
    "import matplotlib.pyplot as plt\n",
    "from scipy.stats import spearmanr\n",
    "from scipy.stats import gaussian_kde\n",
    "from palettable.matplotlib import Inferno_20 as ColMap\n",
    "from fmri_decoder.data import SurfaceData\n",
    "from src.data import Data\n",
    "from src.config import SESSION, DIR_BASE\n",
    "from src.stats import permutation_test\n",
    "plt.style.use(os.path.join(module_path, \"src\", \"default.mplstyle\"))\n",
    "\n",
    "# set\n",
    "SUBJ = \"p5\"\n",
    "SESS = \"VASO\"\n",
    "NSHUFFLE = 10000  # number of permutation iterations\n",
    "FRAC = 0.1  # fraction of data used for permutation testing"
   ]
  },
  {
   "cell_type": "code",
   "execution_count": null,
   "metadata": {},
   "outputs": [],
   "source": [
    "def get_contrast(subj, hemi, day, layer=5):\n",
    "    file_in = (\n",
    "        Path(DIR_BASE) \n",
    "        / subj \n",
    "        / \"odc/results/Z/sampled\" \n",
    "        / f\"Z_all_left_right_{SESS}{SESSION[SUBJ][SESS][day]}\" \n",
    "        / f\"{hemi}.Z_all_left_right_{SESS}{SESSION[SUBJ][SESS][day]}_layer_{layer}.mgh\"\n",
    "    )\n",
    "    return nb.load(file_in).get_fdata().flatten()\n",
    "\n",
    "def get_label(subj):\n",
    "    # get label and hemisphere\n",
    "    data = Data(subj, [])\n",
    "    surf_data = SurfaceData(data.file_layer, None, data.file_label)\n",
    "\n",
    "    label_left = surf_data.load_label_intersection(\"lh\")\n",
    "    label_right = surf_data.load_label_intersection(\"rh\")\n",
    "\n",
    "    hemi = np.zeros(len(label_left)+len(label_right))\n",
    "    hemi[len(label_left):] = 1\n",
    "    label = np.append(label_left, label_right)\n",
    "\n",
    "    return label, hemi"
   ]
  },
  {
   "cell_type": "code",
   "execution_count": null,
   "metadata": {},
   "outputs": [],
   "source": [
    "label, hemi = get_label(SUBJ)\n",
    "data1 = np.zeros_like(hemi)\n",
    "data2 = np.zeros_like(hemi)\n",
    "data1[hemi == 0] = get_contrast(SUBJ, \"lh\", 0)[label[hemi == 0]]\n",
    "data1[hemi == 1] = get_contrast(SUBJ, \"rh\", 0)[label[hemi == 1]]\n",
    "data2[hemi == 0] = get_contrast(SUBJ, \"lh\", 1)[label[hemi == 0]]\n",
    "data2[hemi == 1] = get_contrast(SUBJ, \"rh\", 1)[label[hemi == 1]]\n",
    "\n",
    "# get subset of data for statistics\n",
    "ndata = int(FRAC * len(data1))\n",
    "ind = np.arange(len(data1))\n",
    "random.shuffle(ind)\n",
    "sample_0 = data1[ind[:ndata]]\n",
    "sample_1 = data2[ind[:ndata]]\n",
    "\n",
    "# linear fit\n",
    "m, b = np.polyfit(sample_0, sample_1, 1)\n",
    "x_fit = np.linspace(np.min(data1), np.max(data1), 100)\n",
    "y_fit = m * x_fit + b\n",
    "\n",
    "# statistics\n",
    "r, _ = spearmanr(sample_0, sample_1)  # spearman\n",
    "r_null = np.zeros(NSHUFFLE)\n",
    "for i in range(NSHUFFLE):\n",
    "    random.shuffle(sample_1)\n",
    "    r_null[i], _ = spearmanr(sample_0, sample_1)\n",
    "_, p_val = permutation_test(r, r_null)\n",
    "\n",
    "# calculate the point density\n",
    "xy = np.vstack([data1, data2])\n",
    "z = gaussian_kde(xy)(xy)\n",
    "\n",
    "# Sort the points by density, so that the densest points are plotted last\n",
    "idx = z.argsort()\n",
    "x, y, z = data1[idx], data2[idx], z[idx]\n",
    "\n",
    "fig, ax = plt.subplots()\n",
    "sc = ax.scatter(x, y, c=z, s=15, marker=\"o\", edgecolor=\"none\", rasterized=True, cmap=ColMap.mpl_colormap)\n",
    "ax.plot(x_fit, y_fit, color=\"#F8870E\", lw=5)\n",
    "ax.set_xlabel(\"z-score (session 1)\")\n",
    "ax.set_ylabel(\"z-score (session 2)\")\n",
    "ax.text(.99, .01, f\"r={r:.2f}, p={p_val:.2f}\", ha='right', va='bottom', transform=ax.transAxes)\n",
    "plt.colorbar(sc, label=\"Kernel density estimate in a.u.\")\n",
    "file_out = f\"/data/pt_01880/reliability_{SUBJ}_{SESS}.svg\"\n",
    "fig.savefig(file_out, dpi=300, bbox_inches=\"tight\", transparent=True, format=\"svg\")"
   ]
  },
  {
   "cell_type": "code",
   "execution_count": null,
   "metadata": {},
   "outputs": [],
   "source": [
    "print(f\"r: {r}\")\n",
    "print(f\"p: {p_val}\")"
   ]
  }
 ],
 "metadata": {
  "kernelspec": {
   "display_name": "odc",
   "language": "python",
   "name": "python3"
  },
  "language_info": {
   "codemirror_mode": {
    "name": "ipython",
    "version": 3
   },
   "file_extension": ".py",
   "mimetype": "text/x-python",
   "name": "python",
   "nbconvert_exporter": "python",
   "pygments_lexer": "ipython3",
   "version": "3.10.8"
  },
  "orig_nbformat": 4,
  "vscode": {
   "interpreter": {
    "hash": "2eea3ca81759f0a161bc5aa399ed996bcaf7087f0096e8b8e1483172de838cbc"
   }
  }
 },
 "nbformat": 4,
 "nbformat_minor": 2
}
