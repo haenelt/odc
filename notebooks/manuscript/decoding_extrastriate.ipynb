{
 "cells": [
  {
   "attachments": {},
   "cell_type": "markdown",
   "metadata": {},
   "source": [
    "### Decoding Extrastriate"
   ]
  },
  {
   "cell_type": "code",
   "execution_count": 2,
   "metadata": {},
   "outputs": [],
   "source": [
    "from pathlib import Path\n",
    "import os\n",
    "import sys\n",
    "module_path = os.path.abspath(os.path.join('../..'))\n",
    "if module_path not in sys.path:\n",
    "    sys.path.append(module_path)\n",
    "import numpy as np\n",
    "import matplotlib.pyplot as plt\n",
    "from palettable.matplotlib import Inferno_3 as ColMap\n",
    "from src.config import SUBJECTS, SESSION, N_LAYER\n",
    "from src.stats import Bootstrap, fdr_correction\n",
    "plt.style.use(os.path.join(module_path, \"src\", \"default.mplstyle\"))\n",
    "\n",
    "DIR_DATA = \"/data/pt_01880/Experiment1_ODC/paper/decoding\"\n",
    "FILTER_SIZE = \"none\"\n",
    "\n",
    "# set\n",
    "SESS = \"SE_EPI\"\n",
    "PART = 2  # 0, 1, or 2\n",
    "AREA = [\"v2a\", \"v2b\"]"
   ]
  },
  {
   "cell_type": "code",
   "execution_count": null,
   "metadata": {},
   "outputs": [],
   "source": [
    "def get_profile(area, sess, day):\n",
    "    y = np.zeros((N_LAYER, len(SUBJECTS)))\n",
    "    for i, subj in enumerate(SUBJECTS):\n",
    "        path = Path(DIR_DATA) / subj / f\"{sess}{SESSION[subj][sess][day]}\"\n",
    "        file = path / f\"bandpass_{FILTER_SIZE}_{area}\" / \"accuracy.csv\"\n",
    "        data = np.genfromtxt(file, delimiter=',')\n",
    "        for j in range(N_LAYER):\n",
    "            y[j, i] = np.mean(data[j, :] * 100)\n",
    "    return y"
   ]
  },
  {
   "cell_type": "code",
   "execution_count": null,
   "metadata": {},
   "outputs": [],
   "source": [
    "x = np.linspace(0, 1, N_LAYER)\n",
    "data = []\n",
    "p_adj = []\n",
    "for area in AREA:\n",
    "    y1 = get_profile(area, SESS, 0)\n",
    "    y2 = get_profile(area, SESS, 1)\n",
    "    y3 = np.append(y1, y2, axis=1)\n",
    "    if PART == 0:\n",
    "        data.append(np.mean(y1, axis=1))\n",
    "    elif PART == 1:\n",
    "        data.append(np.mean(y2, axis=1))\n",
    "    elif PART == 2:\n",
    "        data.append(np.mean(y3, axis=1))\n",
    "    else:\n",
    "        raise ValueError(\"Unknown part!\")\n",
    "\n",
    "    # get fdr-corrected p-values\n",
    "    p_val = []\n",
    "    for i in range(N_LAYER):\n",
    "        if PART == 0:\n",
    "            boot = Bootstrap(y1[i,:])\n",
    "        elif PART == 1:\n",
    "            boot = Bootstrap(y2[i,:])\n",
    "        elif PART == 2:\n",
    "            boot = Bootstrap(y3[i,:])\n",
    "        else:\n",
    "            raise ValueError(\"Unknown error!\")\n",
    "\n",
    "        p_val.append(boot.p_value())\n",
    "\n",
    "    p_val = fdr_correction(p_val)\n",
    "    p_adj.append(p_val)"
   ]
  },
  {
   "cell_type": "code",
   "execution_count": null,
   "metadata": {},
   "outputs": [],
   "source": [
    "fig, ax = plt.subplots()\n",
    "color = ColMap.hex_colors\n",
    "for i, area in enumerate(AREA):\n",
    "    ax.plot(x, data[i], color=color[i], linestyle=\"-\", label=area, lw=3)\n",
    "    ax.scatter(x[p_adj[i]<0.05], data[i][p_adj[i]<0.05], color=color[i], s=100)\n",
    "ax.set_xlabel(r\"GM/WM $\\rightarrow$ GM/CSF\")\n",
    "ax.set_ylabel(\"Accuracy in %\")\n",
    "ax.legend(loc=\"lower right\")\n",
    "file_out = f\"/data/pt_01880/decoding_{SESS}_{PART}_{AREA[0][:2]}.svg\"\n",
    "fig.savefig(file_out, dpi=300, bbox_inches=\"tight\", transparent=True, format=\"svg\")"
   ]
  }
 ],
 "metadata": {
  "kernelspec": {
   "display_name": "odc",
   "language": "python",
   "name": "python3"
  },
  "language_info": {
   "codemirror_mode": {
    "name": "ipython",
    "version": 3
   },
   "file_extension": ".py",
   "mimetype": "text/x-python",
   "name": "python",
   "nbconvert_exporter": "python",
   "pygments_lexer": "ipython3",
   "version": "3.11.5"
  },
  "orig_nbformat": 4,
  "vscode": {
   "interpreter": {
    "hash": "2eea3ca81759f0a161bc5aa399ed996bcaf7087f0096e8b8e1483172de838cbc"
   }
  }
 },
 "nbformat": 4,
 "nbformat_minor": 2
}
